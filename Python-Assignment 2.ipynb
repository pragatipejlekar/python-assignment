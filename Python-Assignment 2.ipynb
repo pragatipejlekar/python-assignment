{
 "cells": [
  {
   "cell_type": "markdown",
   "id": "27f1d16d",
   "metadata": {},
   "source": [
    "1. The Python Boolean type has only two possible values:\n",
    "\tTrue\n",
    "\tFalse\n"
   ]
  },
  {
   "cell_type": "markdown",
   "id": "3b962d44",
   "metadata": {},
   "source": [
    "2. The three basic boolean operators are: AND, OR, and NOT."
   ]
  },
  {
   "cell_type": "markdown",
   "id": "92383daf",
   "metadata": {},
   "source": [
    "3.condition 1      condition 2     NOT X        X AND Y          X OR Y\n",
    "  (e.g., X)         (e.g., Y)     ( ~ X )      ( X && Y )      ( X || Y )\n",
    "\n",
    "false               false          true        false             false\n",
    "false               true           true        false             true\n",
    "true                false          false       false             true\n",
    "true                true           false        true             true\n"
   ]
  },
  {
   "cell_type": "code",
   "execution_count": null,
   "id": "06f0b6a9",
   "metadata": {},
   "outputs": [],
   "source": [
    "4. (5 > 4) and (3 == 5)\n",
    "False\n",
    "\n",
    "not (5 > 4)\n",
    "False\n"
   ]
  },
  {
   "cell_type": "code",
   "execution_count": null,
   "id": "3f0ea0e0",
   "metadata": {},
   "outputs": [],
   "source": [
    "5. There are six main comparison operators: \n",
    "equal to\n",
    "not equal to\n",
    "greater than\n",
    " greater than or equal to\n",
    "less than\n",
    " less than or equal to\n"
   ]
  },
  {
   "cell_type": "code",
   "execution_count": null,
   "id": "59b51970",
   "metadata": {},
   "outputs": [],
   "source": [
    "6. Difference between the equal to and assignment operators\n",
    "The “=” is an assignment operator is used to assign the value on the right to the variable on the left. \n",
    "The '==' operator checks whether the two given operands are equal or not. If so, it returns true. Otherwise it returns false.\n",
    "= operator\n",
    "The “=” is an assignment operator is used to assign the value on the right to the variable on the left.\n",
    "For example:\n",
    "a = 10;\n",
    "b = 20;\n",
    "ch = 'y';\n",
    "== operator\n",
    "The ‘==’ operator checks whether the two given operands are equal or not. If so, it returns true. Otherwise it returns false.\n",
    "For example:\n",
    "5==5\n",
    "\n",
    "This will return true.\n",
    "\n"
   ]
  },
  {
   "cell_type": "code",
   "execution_count": null,
   "id": "976ef171",
   "metadata": {},
   "outputs": [],
   "source": [
    "7. \n",
    "spam = 0\n",
    "if spam == 10:\n",
    "    print('eggs')\n",
    "    if spam > 5:\n",
    "        print('bacon')\n",
    "    else:\n",
    "        print('ham')\n",
    "    print('spam')\n",
    "print('spam')\n",
    "\n",
    "o/p\n",
    "The three blocks are everything inside the if statement and the lines print('bacon') and print('ham').\n",
    "print('eggs')\n",
    "if spam > 5:\n",
    "    print('bacon')\n",
    "else:\n",
    "    print('ham')\n",
    "print('spam')\n",
    "\n"
   ]
  },
  {
   "cell_type": "code",
   "execution_count": null,
   "id": "fc7ac854",
   "metadata": {},
   "outputs": [],
   "source": [
    "8.\n",
    " prints Hello if 1 is stored in spam, prints Howdy if 2 is stored in spam, and prints Greetings! if anything else is stored in spam.\n",
    "\n",
    "spam = int(input())\n",
    "\n",
    "if spam == 1:\n",
    "    print('Hello')\n",
    "elif spam == 2:\n",
    "    print('Howdy')\n",
    "else:\n",
    "    print('Greetings!')\n",
    "\n"
   ]
  },
  {
   "cell_type": "code",
   "execution_count": null,
   "id": "446a2a5b",
   "metadata": {},
   "outputs": [],
   "source": [
    "9. programme is stuck in an endless loop, what keys you’ll press?\n",
    "\n",
    "CTRL + C on my keyboard to make the script get a KeyboardInterrupt because clicker.\n",
    "py will just click out of the command prompt window.\n",
    "\n"
   ]
  },
  {
   "cell_type": "code",
   "execution_count": null,
   "id": "fc2b6a6b",
   "metadata": {},
   "outputs": [],
   "source": [
    "10.\n",
    "The Python break statement stops the loop in which the statement is placed. A Python continue statement skips a single iteration in a loop. Both break and continue statements can be used in a for or a while loop. ... The continue statement allows you to skip part of a loop when a condition is met\n",
    "\n"
   ]
  },
  {
   "cell_type": "code",
   "execution_count": null,
   "id": "aa0a6b40",
   "metadata": {},
   "outputs": [],
   "source": [
    "11.\n",
    "for loop, what is the difference between range(10), range(0, 10), and range(0, 10, 1)?\n",
    "\n",
    "range(10)---0 to 9\n",
    "0\n",
    "1\n",
    "2\n",
    "3\n",
    "4\n",
    "5\n",
    "6\n",
    "7\n",
    "8\n",
    "9\n",
    "\n",
    "range(0, 10 ) – \n",
    "0\n",
    "1\n",
    "2\n",
    "3\n",
    "4\n",
    "5\n",
    "6\n",
    "7\n",
    "8\n",
    "9\n",
    "\n",
    "range(0, 10, 1) – \n",
    "0\n",
    "1\n",
    "2\n",
    "3\n",
    "4\n",
    "5\n",
    "6\n",
    "7\n",
    "8\n",
    "9\n",
    "\n"
   ]
  },
  {
   "cell_type": "code",
   "execution_count": null,
   "id": "368f8046",
   "metadata": {},
   "outputs": [],
   "source": [
    "12. \n",
    "for i in range(1,11):\n",
    "     print(i)\n",
    "output:\n",
    "1\n",
    "2\n",
    "3\n",
    "4\n",
    "5\n",
    "6\n",
    "7\n",
    "8\n",
    "9\n",
    "10\n",
    "\n",
    " i = 1\n",
    "while(i<=10):\n",
    "    print(i)\n",
    "    i += 1\n",
    "output:\n",
    "1\n",
    "2\n",
    "3\n",
    "4\n",
    "5\n",
    "6\n",
    "7\n",
    "8\n",
    "9\n",
    "10\n"
   ]
  },
  {
   "cell_type": "markdown",
   "id": "13c6ab17",
   "metadata": {},
   "source": [
    "13. \n",
    "import spam\n",
    "spam.bacon()\n",
    "\n"
   ]
  }
 ],
 "metadata": {
  "kernelspec": {
   "display_name": "Python 3",
   "language": "python",
   "name": "python3"
  },
  "language_info": {
   "codemirror_mode": {
    "name": "ipython",
    "version": 3
   },
   "file_extension": ".py",
   "mimetype": "text/x-python",
   "name": "python",
   "nbconvert_exporter": "python",
   "pygments_lexer": "ipython3",
   "version": "3.8.8"
  }
 },
 "nbformat": 4,
 "nbformat_minor": 5
}
